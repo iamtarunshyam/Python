{
 "cells": [
  {
   "cell_type": "markdown",
   "metadata": {},
   "source": [
    "# python_Basics\n",
    "the first practical work of the week! In this practical, we will learn about the programming language Python as well as NumPy and Matplotlib, two fundamental tools for data science and machine learning in Python.\n",
    "\n",
    "- Introduction and setting the context\n",
    "- \n",
    " - Operators"
   ]
  },
  {
   "cell_type": "markdown",
   "metadata": {},
   "source": [
    "## Introduction and setting a context"
   ]
  },
  {
   "cell_type": "markdown",
   "metadata": {},
   "source": [
    "### What is Python\n",
    "Python is one of the most popular programming languages for machine learning, both in academia and in industry. As such, it is essential to learn this language for anyone interested in machine learning. In this section, we will review Python basics."
   ]
  },
  {
   "cell_type": "markdown",
   "metadata": {},
   "source": [
    "### Notebooks"
   ]
  },
  {
   "cell_type": "markdown",
   "metadata": {},
   "source": [
    "This week, we will use Jupyter notebooks and Google colab as the primary way to practice machine learning. Notebooks are a great way to mix executable code with rich contents (HTML, images, equations written in LaTeX). Colab allows to run notebooks on the cloud for free without any prior installation, while leveraging the power of [GPUs](https://en.wikipedia.org/wiki/Graphics_processing_unit)."
   ]
  },
  {
   "cell_type": "markdown",
   "metadata": {},
   "source": [
    "The document that you are reading is not a static web page, but an interactive environment called a notebook, that lets you write and execute code. Notebooks consist of so-called code cells, blocks of one or more Python instructions. For example, here is a code cell that stores the result of a computation (the number of seconds in a day) in a variable and prints its value:"
   ]
  },
  {
   "cell_type": "code",
   "execution_count": 10,
   "metadata": {},
   "outputs": [
    {
     "name": "stdout",
     "output_type": "stream",
     "text": [
      "Hello world\n"
     ]
    }
   ],
   "source": [
    "print('Hello world')"
   ]
  },
  {
   "cell_type": "markdown",
   "metadata": {},
   "source": [
    "Click on the \"play\" button to execute the cell. You should be able to see the result. Alternatively, \n",
    "- you can also execute the cell by pressing Ctrl + Enter if you are on Windows / Linux  \n",
    "- Command + Enter if you are on a Mac."
   ]
  },
  {
   "cell_type": "code",
   "execution_count": 11,
   "metadata": {},
   "outputs": [
    {
     "name": "stdout",
     "output_type": "stream",
     "text": [
      "the seconds in a day are 86400\n"
     ]
    }
   ],
   "source": [
    "seconds_in_a_day = 24*60*60\n",
    "print('the seconds in a day are', seconds_in_a_day)\n"
   ]
  },
  {
   "cell_type": "code",
   "execution_count": 3,
   "metadata": {},
   "outputs": [
    {
     "name": "stdout",
     "output_type": "stream",
     "text": [
      "the seconds in a week are 604800\n"
     ]
    }
   ],
   "source": [
    "seconds_in_a_week = 7* seconds_in_a_day\n",
    "print('the seconds in a week are', seconds_in_a_week)"
   ]
  },
  {
   "cell_type": "markdown",
   "metadata": {},
   "source": [
    "Note that the order of execution is important. For instance, if we do not run the cell storing *seconds_in_a_day* beforehand, the above cell will raise an error, as it depends on this variable. To make sure that you run all the cells in the correct order, you can also click on \"Runtime\" in the top-level menu, then \"Run all\"."
   ]
  },
  {
   "cell_type": "markdown",
   "metadata": {},
   "source": [
    "**Exercise.** Add a cell below this cell: click on this cell then click on \"+ Code\". In the new cell, compute the number of seconds in a year by reusing the variable *seconds_in_a_day*. Run the new cell."
   ]
  },
  {
   "cell_type": "code",
   "execution_count": 12,
   "metadata": {},
   "outputs": [
    {
     "name": "stdout",
     "output_type": "stream",
     "text": [
      "the minutes in a day are 1440\n"
     ]
    }
   ],
   "source": [
    "minutes_in_a_day = 24*60\n",
    "print('the minutes in a day are', minutes_in_a_day)"
   ]
  },
  {
   "cell_type": "code",
   "execution_count": 6,
   "metadata": {},
   "outputs": [
    {
     "name": "stdout",
     "output_type": "stream",
     "text": [
      "the minutes in a week are 10080\n"
     ]
    }
   ],
   "source": [
    "minutes_in_a_week = 7* minutes_in_a_day\n",
    "print('the minutes in a week are', minutes_in_a_week)"
   ]
  },
  {
   "cell_type": "markdown",
   "metadata": {},
   "source": [
    "## Operators or Operation\n",
    "- Arithmetic Operators\n",
    "- Bitwise Operators\n",
    "- Assignment Operators\n",
    "- Comparision Operators\n",
    "- Boolean Operations\n",
    "- Identity and Membership Operators"
   ]
  },
  {
   "cell_type": "markdown",
   "metadata": {},
   "source": [
    "### Arithmetic Operation\n",
    "Python supports the usual arithmetic operators: + (addition), * (multiplication), / (division), ** (power), // (integer division).\n",
    "\n",
    "\n",
    "|Operator|  Name | Description|\n",
    "| :----- | :----:| :----      |\n",
    "|a + b|\tAddition| Sum of a and b|\n",
    "|a - b| Subtraction| Difference of a and b|\n",
    "|a * b| Multiplication| Product of a and b|\n",
    "|a / b| True division| Quotient of a and b|\n",
    "|a // b| Floor division| Quotient of a and b, removing fractional parts|\n",
    "|a % b| Modulus| Integer remainder after division of a by b|\n",
    "|a ** b| Exponentiation| a raised to the power of b|\n",
    "|-a| Negation| The negative of a|\n",
    "|+a\t| Unary plus| a unchanged (rarely used)|\n",
    "\n",
    "\n",
    "These operators can be used and combined in intuitive ways, using standard parentheses to group operations. For example:"
   ]
  },
  {
   "cell_type": "code",
   "execution_count": 17,
   "metadata": {},
   "outputs": [
    {
     "name": "stdout",
     "output_type": "stream",
     "text": [
      "Addition of A and B 17\n",
      "Subtraction of A and B -3\n",
      "Multiplication of A and B 70\n",
      "Division of A and B 0.7\n"
     ]
    }
   ],
   "source": [
    "a = 7\n",
    "b = 10\n",
    "\n",
    "add = a + b \n",
    "sub = a - b\n",
    "mul = a * b\n",
    "div = a / b\n",
    "print('Addition of A and B', add)\n",
    "print('Subtraction of A and B', sub)\n",
    "print('Multiplication of A and B', mul)\n",
    "print('Division of A and B', div)\n"
   ]
  },
  {
   "cell_type": "code",
   "execution_count": 23,
   "metadata": {},
   "outputs": [
    {
     "data": {
      "text/plain": [
       "9"
      ]
     },
     "execution_count": 23,
     "metadata": {},
     "output_type": "execute_result"
    }
   ],
   "source": [
    "c = a + 2\n",
    "c"
   ]
  },
  {
   "cell_type": "markdown",
   "metadata": {},
   "source": [
    "\n",
    "Floor division is true division with fractional parts truncated:"
   ]
  },
  {
   "cell_type": "code",
   "execution_count": 21,
   "metadata": {},
   "outputs": [
    {
     "name": "stdout",
     "output_type": "stream",
     "text": [
      "True division 5.5\n",
      "Floor Division 5\n"
     ]
    }
   ],
   "source": [
    "#true Division\n",
    "print ('True division', 11 / 2)\n",
    "print ('Floor Division', 11 // 2)"
   ]
  },
  {
   "cell_type": "markdown",
   "metadata": {},
   "source": [
    "\n",
    "### Bitwise Operations\n",
    "In addition to the standard numerical operations, Python includes operators to perform bitwise logical operations on integers. These are much less commonly used than the standard arithmetic operations, but it's useful to know that they exist. The six bitwise operators are summarized in the following table:\n",
    "\n",
    "|Operator|\tName           |\tDescription                        |\n",
    "|:---    | :----           |:----                                  |\n",
    "|a & b\t |Bitwise AND      |\tBits defined in both a and b       |\n",
    "|a | b\t |Bitwise OR       |\tBits defined in a or b or both     |\n",
    "|a ^ b\t |Bitwise XOR      |\tBits defined in a or b but not both|\n",
    "|a << b  |\tBit shift left |\tShift bits of a left by b units    |\n",
    "|a >> b  |\tBit shift right|\tShift bits of a right by b units   |\n",
    "|~a      |\tBitwise NOT    |\tBitwise negation of a              |\n",
    "\n",
    "These bitwise operators only make sense in terms of the binary representation of numbers, which you can see using the built-in bin function:"
   ]
  },
  {
   "cell_type": "code",
   "execution_count": 30,
   "metadata": {},
   "outputs": [
    {
     "data": {
      "text/plain": [
       "'0b1010'"
      ]
     },
     "execution_count": 30,
     "metadata": {},
     "output_type": "execute_result"
    }
   ],
   "source": [
    "#Output is 0b abd the binary number\n",
    "bin(10)"
   ]
  },
  {
   "cell_type": "markdown",
   "metadata": {},
   "source": [
    "\n",
    "The result is prefixed with '0b', which indicates a binary representation. The rest of the digits indicate that the number 10 is expressed as the sum \n",
    "1\n",
    "⋅\n",
    "2\n",
    "^3\n",
    "+\n",
    "0\n",
    "⋅\n",
    "2\n",
    "^2\n",
    "+\n",
    "1\n",
    "⋅\n",
    "2\n",
    "^1\n",
    "+\n",
    "0\n",
    "⋅\n",
    "2\n",
    "^0\n",
    ". Similarly, we can write"
   ]
  },
  {
   "cell_type": "code",
   "execution_count": 31,
   "metadata": {},
   "outputs": [
    {
     "data": {
      "text/plain": [
       "'0b100'"
      ]
     },
     "execution_count": 31,
     "metadata": {},
     "output_type": "execute_result"
    }
   ],
   "source": [
    "bin(4)"
   ]
  },
  {
   "cell_type": "markdown",
   "metadata": {},
   "source": [
    "\n",
    "Now, using **BITWISE OR**, we can find the number which combines the bits of 4 and 10:"
   ]
  },
  {
   "cell_type": "code",
   "execution_count": 32,
   "metadata": {},
   "outputs": [
    {
     "data": {
      "text/plain": [
       "14"
      ]
     },
     "execution_count": 32,
     "metadata": {},
     "output_type": "execute_result"
    }
   ],
   "source": [
    "4 | 10"
   ]
  },
  {
   "cell_type": "code",
   "execution_count": 34,
   "metadata": {},
   "outputs": [
    {
     "data": {
      "text/plain": [
       "'0b1110'"
      ]
     },
     "execution_count": 34,
     "metadata": {},
     "output_type": "execute_result"
    }
   ],
   "source": [
    "bin(14)"
   ]
  },
  {
   "cell_type": "code",
   "execution_count": 33,
   "metadata": {},
   "outputs": [
    {
     "data": {
      "text/plain": [
       "'0b1110'"
      ]
     },
     "execution_count": 33,
     "metadata": {},
     "output_type": "execute_result"
    }
   ],
   "source": [
    "bin(4 | 10)"
   ]
  },
  {
   "cell_type": "markdown",
   "metadata": {},
   "source": [
    "\n",
    "These bitwise operators are not as immediately useful as the standard arithmetic operators, but it's helpful to see them at least once to understand what class of operation they perform. In particular, users from other languages are sometimes tempted to use XOR (i.e., a ^ b) when they really mean exponentiation (i.e., a ** b)."
   ]
  },
  {
   "cell_type": "markdown",
   "metadata": {},
   "source": [
    "### Assignment Operations\n",
    "\n",
    "There is an augmented assignment operator corresponding to each of the binary operators listed earlier; in brief, they are:\n",
    "\n",
    "||||| |-|-| |a += b| a -= b|a *= b| a /= b| |a //= b| a %= b|a **= b|a &= b| |a |= b| a ^= b|a <<= b| a >>= b|\n",
    "\n",
    "Each one is equivalent to the corresponding operation followed by assignment: that is, for any operator \"■\", the expression a ■= b is equivalent to a = a ■ b, with a slight catch. For mutable objects like lists, arrays, or DataFrames, these augmented assignment operations are actually subtly different than their more verbose counterparts: they modify the contents of the original object rather than creating a new object to store the result."
   ]
  },
  {
   "cell_type": "code",
   "execution_count": 38,
   "metadata": {},
   "outputs": [],
   "source": [
    "t = 25"
   ]
  },
  {
   "cell_type": "markdown",
   "metadata": {},
   "source": [
    "\n",
    "We can use these variables in expressions with any of the operators mentioned earlier. For example, to add 3 to a we write:"
   ]
  },
  {
   "cell_type": "code",
   "execution_count": 39,
   "metadata": {},
   "outputs": [
    {
     "data": {
      "text/plain": [
       "28"
      ]
     },
     "execution_count": 39,
     "metadata": {},
     "output_type": "execute_result"
    }
   ],
   "source": [
    "t + 3"
   ]
  },
  {
   "cell_type": "markdown",
   "metadata": {},
   "source": [
    "We might want to update the variable a with this new value; in this case, we could combine the addition and the assignment and write a = a + 2. Because this type of combined operation and assignment is so common, Python includes built-in update operators for all of the arithmetic operations:"
   ]
  },
  {
   "cell_type": "code",
   "execution_count": 40,
   "metadata": {},
   "outputs": [
    {
     "name": "stdout",
     "output_type": "stream",
     "text": [
      "28\n"
     ]
    }
   ],
   "source": [
    "t += 3\n",
    "print(t)"
   ]
  },
  {
   "cell_type": "markdown",
   "metadata": {},
   "source": [
    "### Comparision Operations\n",
    "\n",
    "Another type of operation which can be very useful is comparison of different values. For this, Python implements standard comparison operators, which return Boolean values True and False. The comparison operations are listed in the following table:\n",
    "\n",
    "| Operation | Description |\n",
    "|:----      |:------------|\n",
    "| a == b    | a equal to b |\n",
    "| a != b    | a not equal to b | \n",
    "| a < b     | a less than b |\n",
    "| a > b     | a greater than b | \n",
    "| a <= b    | a less than or equal to b |\n",
    "| a >= b    | a greater than or equal to b |\n",
    "\n",
    "These comparison operators can be combined with the arithmetic and bitwise operators to express a virtually limitless range of tests for the numbers. For example, we can check if a number is odd by checking that the modulus with 2 returns 1:"
   ]
  },
  {
   "cell_type": "code",
   "execution_count": 41,
   "metadata": {},
   "outputs": [
    {
     "data": {
      "text/plain": [
       "True"
      ]
     },
     "execution_count": 41,
     "metadata": {},
     "output_type": "execute_result"
    }
   ],
   "source": [
    "# % is modulus i.e \n",
    "25 % 2 == 1"
   ]
  },
  {
   "cell_type": "code",
   "execution_count": 47,
   "metadata": {},
   "outputs": [
    {
     "data": {
      "text/plain": [
       "True"
      ]
     },
     "execution_count": 47,
     "metadata": {},
     "output_type": "execute_result"
    }
   ],
   "source": [
    "66 % 2 == 0"
   ]
  },
  {
   "cell_type": "code",
   "execution_count": 48,
   "metadata": {},
   "outputs": [
    {
     "data": {
      "text/plain": [
       "1"
      ]
     },
     "execution_count": 48,
     "metadata": {},
     "output_type": "execute_result"
    }
   ],
   "source": [
    "289 % 2"
   ]
  },
  {
   "cell_type": "markdown",
   "metadata": {},
   "source": [
    "\n",
    "We can string-together multiple comparisons to check more complicated relationships:"
   ]
  },
  {
   "cell_type": "code",
   "execution_count": 49,
   "metadata": {},
   "outputs": [
    {
     "data": {
      "text/plain": [
       "True"
      ]
     },
     "execution_count": 49,
     "metadata": {},
     "output_type": "execute_result"
    }
   ],
   "source": [
    "a = 25\n",
    "15 < a < 30"
   ]
  },
  {
   "cell_type": "markdown",
   "metadata": {},
   "source": [
    "\n",
    "And, just to make your head hurt a bit, take a look at this comparison:"
   ]
  },
  {
   "cell_type": "code",
   "execution_count": 50,
   "metadata": {},
   "outputs": [
    {
     "data": {
      "text/plain": [
       "True"
      ]
     },
     "execution_count": 50,
     "metadata": {},
     "output_type": "execute_result"
    }
   ],
   "source": [
    "\n",
    "-1 == ~0"
   ]
  },
  {
   "cell_type": "markdown",
   "metadata": {},
   "source": [
    "\n",
    "Recall that ~ is the bit-flip operator, and evidently when you flip all the bits of zero you end up with -1. If you're curious as to why this is, look up the two's complement integer encoding scheme, which is what Python uses to encode signed integers, and think about what happens when you start flipping all the bits of integers encoded this way."
   ]
  },
  {
   "cell_type": "code",
   "execution_count": 58,
   "metadata": {},
   "outputs": [
    {
     "data": {
      "text/plain": [
       "-5"
      ]
     },
     "execution_count": 58,
     "metadata": {},
     "output_type": "execute_result"
    }
   ],
   "source": [
    "#~0 is actually -1 and the filp continues the numbering\n",
    "~2 - 2"
   ]
  },
  {
   "cell_type": "markdown",
   "metadata": {},
   "source": [
    "### Boolean Operations :\n",
    "When working with Boolean values, Python provides operators to combine the values using the standard concepts of \"and\", \"or\", and \"not\". Predictably, these operators are expressed using the words and, or, and not:"
   ]
  },
  {
   "cell_type": "code",
   "execution_count": 65,
   "metadata": {},
   "outputs": [
    {
     "data": {
      "text/plain": [
       "True"
      ]
     },
     "execution_count": 65,
     "metadata": {},
     "output_type": "execute_result"
    }
   ],
   "source": [
    "x = 4\n",
    "(x<6)"
   ]
  },
  {
   "cell_type": "code",
   "execution_count": 71,
   "metadata": {},
   "outputs": [
    {
     "data": {
      "text/plain": [
       "True"
      ]
     },
     "execution_count": 71,
     "metadata": {},
     "output_type": "execute_result"
    }
   ],
   "source": [
    "#& , and \n",
    "(x<6) & (x>2)\n",
    "#(x<6) and (x>2)"
   ]
  },
  {
   "cell_type": "code",
   "execution_count": 72,
   "metadata": {},
   "outputs": [
    {
     "data": {
      "text/plain": [
       "True"
      ]
     },
     "execution_count": 72,
     "metadata": {},
     "output_type": "execute_result"
    }
   ],
   "source": [
    "#|,  or\n",
    "(x>10) | (x% 2 == 0)\n",
    "#(x>10) or (x% 2 == 0)"
   ]
  },
  {
   "cell_type": "code",
   "execution_count": 75,
   "metadata": {},
   "outputs": [
    {
     "data": {
      "text/plain": [
       "False"
      ]
     },
     "execution_count": 75,
     "metadata": {},
     "output_type": "execute_result"
    }
   ],
   "source": [
    "\n",
    "not (x < 6)\n"
   ]
  },
  {
   "cell_type": "markdown",
   "metadata": {},
   "source": [
    "Boolean algebra aficionados might notice that the XOR operator is not included; this can of course be constructed in several ways from a compound statement of the other operators. Otherwise, a clever trick you can use for XOR of Boolean values is the following:"
   ]
  },
  {
   "cell_type": "code",
   "execution_count": 70,
   "metadata": {},
   "outputs": [
    {
     "data": {
      "text/plain": [
       "False"
      ]
     },
     "execution_count": 70,
     "metadata": {},
     "output_type": "execute_result"
    }
   ],
   "source": [
    "#(x > 1) xor (x<10)\n",
    "(x > 1) != (x<10)"
   ]
  },
  {
   "cell_type": "markdown",
   "metadata": {},
   "source": [
    "These sorts of Boolean operations will become extremely useful when we begin discussing control flow statements such as conditionals and loops.\n",
    "\n",
    "One sometimes confusing thing about the language is when to use Boolean operators (and, or, not), and when to use bitwise operations (&, |, ~). The answer lies in their names: Boolean operators should be used when you want to compute Boolean values (i.e., truth or falsehood) of entire statements. Bitwise operations should be used when you want to operate on individual bits or components of the objects in question."
   ]
  },
  {
   "cell_type": "markdown",
   "metadata": {},
   "source": [
    "### Identity and Membership Operators\n",
    "Like and, or, and not, Python also contains prose-like operators to check for identity and membership. They are the following:\n",
    "\n",
    "|Operator|\tDescription|\n",
    "|:-------|:------------|\n",
    "|a is b\t|True if a and b are identical objects|\n",
    "|a is not b\t|True if a and b are not identical objects|\n",
    "|a in b\t|True if a is a member of b|\n",
    "|a not in b\t|True if a is not a member of b|\n",
    "\n",
    "#### Identity Operators: \"is\" and \"is not\"\n",
    "The identity operators, \"is\" and \"is not\" check for object identity. Object identity is different than equality, as we can see here:"
   ]
  },
  {
   "cell_type": "code",
   "execution_count": 76,
   "metadata": {},
   "outputs": [],
   "source": [
    "a = [1,2,3]\n",
    "b = [1,2,3]"
   ]
  },
  {
   "cell_type": "code",
   "execution_count": 77,
   "metadata": {},
   "outputs": [
    {
     "data": {
      "text/plain": [
       "True"
      ]
     },
     "execution_count": 77,
     "metadata": {},
     "output_type": "execute_result"
    }
   ],
   "source": [
    "a == b"
   ]
  },
  {
   "cell_type": "code",
   "execution_count": 78,
   "metadata": {},
   "outputs": [
    {
     "data": {
      "text/plain": [
       "False"
      ]
     },
     "execution_count": 78,
     "metadata": {},
     "output_type": "execute_result"
    }
   ],
   "source": [
    "a is b"
   ]
  },
  {
   "cell_type": "code",
   "execution_count": 79,
   "metadata": {},
   "outputs": [
    {
     "data": {
      "text/plain": [
       "True"
      ]
     },
     "execution_count": 79,
     "metadata": {},
     "output_type": "execute_result"
    }
   ],
   "source": [
    "a is not b"
   ]
  },
  {
   "cell_type": "markdown",
   "metadata": {},
   "source": [
    "What do identical objects look like? Here is an example:"
   ]
  },
  {
   "cell_type": "code",
   "execution_count": 80,
   "metadata": {},
   "outputs": [
    {
     "data": {
      "text/plain": [
       "True"
      ]
     },
     "execution_count": 80,
     "metadata": {},
     "output_type": "execute_result"
    }
   ],
   "source": [
    "a = [1,2,3]\n",
    "b = a\n",
    "a is b"
   ]
  },
  {
   "cell_type": "markdown",
   "metadata": {},
   "source": [
    "The difference between the two cases here is that in the first, a and b point to different objects, while in the second they point to the same object. As we saw in the previous section, Python variables are pointers. The \"is\" operator checks whether the two variables are pointing to the same container (object), rather than referring to what the container contains. With this in mind, in most cases that a beginner is tempted to use \"is\" what they really mean is ==."
   ]
  },
  {
   "cell_type": "markdown",
   "metadata": {},
   "source": [
    "#### Membership operators\n",
    "Membership operators check for membership within compound objects. So, for example, we can write:"
   ]
  },
  {
   "cell_type": "code",
   "execution_count": 81,
   "metadata": {},
   "outputs": [
    {
     "data": {
      "text/plain": [
       "True"
      ]
     },
     "execution_count": 81,
     "metadata": {},
     "output_type": "execute_result"
    }
   ],
   "source": [
    "1 in [1,2,3]"
   ]
  },
  {
   "cell_type": "code",
   "execution_count": 82,
   "metadata": {},
   "outputs": [
    {
     "data": {
      "text/plain": [
       "False"
      ]
     },
     "execution_count": 82,
     "metadata": {},
     "output_type": "execute_result"
    }
   ],
   "source": [
    "2 not in [1,2,3]"
   ]
  },
  {
   "cell_type": "markdown",
   "metadata": {},
   "source": [
    "These membership operations are an example of what makes Python so easy to use compared to lower-level languages such as C. In C, membership would generally be determined by manually constructing a loop over the list and checking for equality of each value. In Python, you just type what you want to know, in a manner reminiscent of straightforward English prose."
   ]
  },
  {
   "cell_type": "markdown",
   "metadata": {},
   "source": [
    "## List\n",
    "Lists are a container type for ordered sequences of elements. Lists can be initialized empty."
   ]
  },
  {
   "cell_type": "markdown",
   "metadata": {},
   "source": [
    "\n",
    "\n",
    "Table Property :\n",
    "\n",
    "| Item              | In Stock | Price |\n",
    "| :---------------- | :------: | ----: |\n",
    "| Python Hat        |   True   | 23.99 |\n",
    "| SQL Hat           |   True   | 23.99 |\n",
    "| Codecademy Tee    |  False   | 19.99 |\n",
    "| Codecademy Hoodie |  False   | 42.99 |\n",
    "\n",
    "\n",
    "- :-- means the column is left aligned.\n",
    "- --: means the column is right aligned.\n",
    "- :-: means the column is center aligned."
   ]
  }
 ],
 "metadata": {
  "kernelspec": {
   "display_name": "Python 3",
   "language": "python",
   "name": "python3"
  },
  "language_info": {
   "codemirror_mode": {
    "name": "ipython",
    "version": 3
   },
   "file_extension": ".py",
   "mimetype": "text/x-python",
   "name": "python",
   "nbconvert_exporter": "python",
   "pygments_lexer": "ipython3",
   "version": "3.9.6"
  }
 },
 "nbformat": 4,
 "nbformat_minor": 2
}
