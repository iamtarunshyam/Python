{
 "cells": [
  {
   "cell_type": "markdown",
   "metadata": {},
   "source": [
    "# Day-2 Variables and Built-in_Function"
   ]
  },
  {
   "cell_type": "code",
   "execution_count": 1,
   "metadata": {},
   "outputs": [],
   "source": [
    "# Variables\n",
    "first_name = 'Tarun'\n",
    "Last_name = 'Shyam'\n",
    "country = 'Germany'\n",
    "age = 27\n",
    "is_married = True\n",
    "\n",
    "skills = ['HTML','CSS','JS','React','Python']"
   ]
  },
  {
   "cell_type": "code",
   "execution_count": 3,
   "metadata": {},
   "outputs": [
    {
     "name": "stdout",
     "output_type": "stream",
     "text": [
      "first name: Tarun\n",
      "Last name: Shyam\n",
      "age: 27\n",
      "Country: Germany\n"
     ]
    }
   ],
   "source": [
    "#Printing values stored in the variable\n",
    "print('first name:', first_name)\n",
    "print('Last name:', Last_name)\n",
    "print('age:', age)\n",
    "print('Country:', country)"
   ]
  },
  {
   "cell_type": "code",
   "execution_count": 10,
   "metadata": {},
   "outputs": [],
   "source": [
    "personal_info = {\n",
    "    first_name,\n",
    "    Last_name,\n",
    "    country,\n",
    "}"
   ]
  },
  {
   "cell_type": "code",
   "execution_count": 11,
   "metadata": {},
   "outputs": [
    {
     "data": {
      "text/plain": [
       "{'Germany', 'Shyam', 'Tarun'}"
      ]
     },
     "execution_count": 11,
     "metadata": {},
     "output_type": "execute_result"
    }
   ],
   "source": [
    "personal_info"
   ]
  },
  {
   "cell_type": "code",
   "execution_count": 13,
   "metadata": {},
   "outputs": [],
   "source": [
    "# Decalring multiple variable in one line\n",
    "\n",
    "first_name, last_name, country, age, is_married = 'Tarun'"
   ]
  },
  {
   "cell_type": "code",
   "execution_count": 14,
   "metadata": {},
   "outputs": [
    {
     "name": "stdout",
     "output_type": "stream",
     "text": [
      "T a r u n\n"
     ]
    }
   ],
   "source": [
    "print(first_name, last_name, country, age, is_married)"
   ]
  },
  {
   "cell_type": "code",
   "execution_count": null,
   "metadata": {},
   "outputs": [],
   "source": []
  }
 ],
 "metadata": {
  "kernelspec": {
   "display_name": "Python 3",
   "language": "python",
   "name": "python3"
  },
  "language_info": {
   "codemirror_mode": {
    "name": "ipython",
    "version": 3
   },
   "file_extension": ".py",
   "mimetype": "text/x-python",
   "name": "python",
   "nbconvert_exporter": "python",
   "pygments_lexer": "ipython3",
   "version": "3.9.6"
  }
 },
 "nbformat": 4,
 "nbformat_minor": 2
}
